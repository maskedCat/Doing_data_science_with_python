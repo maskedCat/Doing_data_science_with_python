{
 "cells": [
  {
   "cell_type": "markdown",
   "metadata": {},
   "source": [
    "## SQLite Database"
   ]
  },
  {
   "cell_type": "code",
   "execution_count": 2,
   "metadata": {},
   "outputs": [],
   "source": [
    "import sqlite3"
   ]
  },
  {
   "cell_type": "code",
   "execution_count": 3,
   "metadata": {},
   "outputs": [],
   "source": [
    "connection = sqlite3.connect(\"classroomDB.db\")\n",
    "connection.close()"
   ]
  },
  {
   "cell_type": "code",
   "execution_count": 4,
   "metadata": {},
   "outputs": [],
   "source": [
    "connection = sqlite3.connect(\"classroomDB.db\")\n",
    "cursor = connection.cursor()\n",
    "create_table = \"\"\"\n",
    "                CREATE TABLE classroom(\n",
    "                student_id INTEGER PRIMARY KEY,\n",
    "                name VARCHAR(20),\n",
    "                gender CHAR(1),\n",
    "                physics_marks INTEGER,\n",
    "                chemistry_marks INTEGER,\n",
    "                mathematics_marks INTEGER\n",
    "                );\"\"\"\n",
    "cursor.execute(create_table)\n",
    "connection.commit()\n",
    "connection.close()"
   ]
  },
  {
   "cell_type": "code",
   "execution_count": 10,
   "metadata": {},
   "outputs": [
    {
     "name": "stdout",
     "output_type": "stream",
     "text": [
      "Hello Michael\n"
     ]
    }
   ],
   "source": [
    "t = \"Michael\"\n",
    "\n",
    "print(\"Hello {t}\".format(t=\"Michael\"))"
   ]
  },
  {
   "cell_type": "code",
   "execution_count": 14,
   "metadata": {},
   "outputs": [
    {
     "name": "stdout",
     "output_type": "stream",
     "text": [
      "INSERT INTO classroom\n",
      "                        (student_id, name, gender, physics_marks, chemistry_marks, mathematics_marks)\n",
      "                        VALUES\n",
      "                        (1,\"Raj\",\"M\",70,84,92)\n",
      "INSERT INTO classroom\n",
      "                        (student_id, name, gender, physics_marks, chemistry_marks, mathematics_marks)\n",
      "                        VALUES\n",
      "                        (2,\"Poonam\",\"F\",87,69,93)\n",
      "INSERT INTO classroom\n",
      "                        (student_id, name, gender, physics_marks, chemistry_marks, mathematics_marks)\n",
      "                        VALUES\n",
      "                        (3,\"Nik\",\"M\",65,83,90)\n",
      "INSERT INTO classroom\n",
      "                        (student_id, name, gender, physics_marks, chemistry_marks, mathematics_marks)\n",
      "                        VALUES\n",
      "                        (4,\"Rahul\",\"F\",83,76,89)\n"
     ]
    }
   ],
   "source": [
    "classroom_data = [( 1, \"Raj\", \"M\", 70, 84, 92),\n",
    "                  ( 2, \"Poonam\", \"F\", 87, 69, 93),\n",
    "                  ( 3, \"Nik\", \"M\", 65, 83, 90),\n",
    "                  ( 4, \"Rahul\", \"F\", 83, 76, 89)]\n",
    "connection = sqlite3.connect(\"classroomDB.db\")\n",
    "cursor = connection.cursor()\n",
    "for student in classroom_data:\n",
    "    insert_statement = \"\"\"INSERT INTO classroom\n",
    "                        (student_id, name, gender, physics_marks, chemistry_marks, mathematics_marks)\n",
    "                        VALUES\n",
    "                        ({0},\"{1}\",\"{2}\",{3},{4},{5})\"\"\".format(student[0], student[1], student[2], student[3], student[4], student[5])\n",
    "    cursor.execute(insert_statement)\n",
    "    \n",
    "connection.commit()\n",
    "connection.close()"
   ]
  },
  {
   "cell_type": "code",
   "execution_count": 15,
   "metadata": {},
   "outputs": [
    {
     "name": "stdout",
     "output_type": "stream",
     "text": [
      "(1, 'Raj', 'M', 70, 84, 92)\n",
      "(2, 'Poonam', 'F', 87, 69, 93)\n",
      "(3, 'Nik', 'M', 65, 83, 90)\n",
      "(4, 'Rahul', 'F', 83, 76, 89)\n"
     ]
    }
   ],
   "source": [
    "connection = sqlite3.connect(\"classroomDB.db\")\n",
    "cursor = connection.cursor()\n",
    "query = \"SELECT * FROM classroom\"\n",
    "cursor.execute(query)\n",
    "result = cursor.fetchall()\n",
    "for row in result:\n",
    "    print(row)\n",
    "\n",
    "connection.close()"
   ]
  },
  {
   "cell_type": "markdown",
   "metadata": {},
   "source": [
    "\n",
    "## MySQL database"
   ]
  },
  {
   "cell_type": "code",
   "execution_count": 20,
   "metadata": {},
   "outputs": [
    {
     "name": "stdout",
     "output_type": "stream",
     "text": [
      "Requirement already satisfied: pymysql in c:\\users\\michael\\anaconda3\\lib\\site-packages (0.8.1)\n"
     ]
    },
    {
     "name": "stderr",
     "output_type": "stream",
     "text": [
      "distributed 1.21.8 requires msgpack, which is not installed.\n"
     ]
    }
   ],
   "source": [
    "!pip install pymysql"
   ]
  },
  {
   "cell_type": "code",
   "execution_count": null,
   "metadata": {},
   "outputs": [],
   "source": [
    "cnx = {'host':'mysqldb.etc.amazonaws.com',\n",
    "      'username':'u',\n",
    "      'password':'p',\n",
    "      'db':'classrooDB'}\n",
    "\n",
    "conneciton = pymysql.connect(cnx['host'],cnx['username'],cnx['password'],cnx['db'])\n",
    "connection.close()"
   ]
  }
 ],
 "metadata": {
  "kernelspec": {
   "display_name": "Python 3",
   "language": "python",
   "name": "python3"
  },
  "language_info": {
   "codemirror_mode": {
    "name": "ipython",
    "version": 3
   },
   "file_extension": ".py",
   "mimetype": "text/x-python",
   "name": "python",
   "nbconvert_exporter": "python",
   "pygments_lexer": "ipython3",
   "version": "3.6.5"
  }
 },
 "nbformat": 4,
 "nbformat_minor": 2
}
